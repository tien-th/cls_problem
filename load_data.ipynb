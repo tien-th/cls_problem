{
 "cells": [
  {
   "cell_type": "code",
   "execution_count": 1,
   "metadata": {},
   "outputs": [
    {
     "data": {
      "text/html": [
       "<div>\n",
       "<style scoped>\n",
       "    .dataframe tbody tr th:only-of-type {\n",
       "        vertical-align: middle;\n",
       "    }\n",
       "\n",
       "    .dataframe tbody tr th {\n",
       "        vertical-align: top;\n",
       "    }\n",
       "\n",
       "    .dataframe thead th {\n",
       "        text-align: right;\n",
       "    }\n",
       "</style>\n",
       "<table border=\"1\" class=\"dataframe\">\n",
       "  <thead>\n",
       "    <tr style=\"text-align: right;\">\n",
       "      <th></th>\n",
       "      <th>image_name</th>\n",
       "      <th>label</th>\n",
       "    </tr>\n",
       "  </thead>\n",
       "  <tbody>\n",
       "    <tr>\n",
       "      <th>0</th>\n",
       "      <td>isbi2025_ps3c_train_image_73838.png</td>\n",
       "      <td>rubbish</td>\n",
       "    </tr>\n",
       "    <tr>\n",
       "      <th>1</th>\n",
       "      <td>isbi2025_ps3c_train_image_84057.png</td>\n",
       "      <td>unhealthy</td>\n",
       "    </tr>\n",
       "    <tr>\n",
       "      <th>2</th>\n",
       "      <td>isbi2025_ps3c_train_image_80712.png</td>\n",
       "      <td>rubbish</td>\n",
       "    </tr>\n",
       "    <tr>\n",
       "      <th>3</th>\n",
       "      <td>isbi2025_ps3c_train_image_08602.png</td>\n",
       "      <td>healthy</td>\n",
       "    </tr>\n",
       "    <tr>\n",
       "      <th>4</th>\n",
       "      <td>isbi2025_ps3c_train_image_31517.png</td>\n",
       "      <td>healthy</td>\n",
       "    </tr>\n",
       "    <tr>\n",
       "      <th>...</th>\n",
       "      <td>...</td>\n",
       "      <td>...</td>\n",
       "    </tr>\n",
       "    <tr>\n",
       "      <th>85075</th>\n",
       "      <td>isbi2025_ps3c_train_image_05446.png</td>\n",
       "      <td>healthy</td>\n",
       "    </tr>\n",
       "    <tr>\n",
       "      <th>85076</th>\n",
       "      <td>isbi2025_ps3c_train_image_12680.png</td>\n",
       "      <td>healthy</td>\n",
       "    </tr>\n",
       "    <tr>\n",
       "      <th>85077</th>\n",
       "      <td>isbi2025_ps3c_train_image_76453.png</td>\n",
       "      <td>rubbish</td>\n",
       "    </tr>\n",
       "    <tr>\n",
       "      <th>85078</th>\n",
       "      <td>isbi2025_ps3c_train_image_43224.png</td>\n",
       "      <td>rubbish</td>\n",
       "    </tr>\n",
       "    <tr>\n",
       "      <th>85079</th>\n",
       "      <td>isbi2025_ps3c_train_image_67355.png</td>\n",
       "      <td>rubbish</td>\n",
       "    </tr>\n",
       "  </tbody>\n",
       "</table>\n",
       "<p>85080 rows × 2 columns</p>\n",
       "</div>"
      ],
      "text/plain": [
       "                                image_name      label\n",
       "0      isbi2025_ps3c_train_image_73838.png    rubbish\n",
       "1      isbi2025_ps3c_train_image_84057.png  unhealthy\n",
       "2      isbi2025_ps3c_train_image_80712.png    rubbish\n",
       "3      isbi2025_ps3c_train_image_08602.png    healthy\n",
       "4      isbi2025_ps3c_train_image_31517.png    healthy\n",
       "...                                    ...        ...\n",
       "85075  isbi2025_ps3c_train_image_05446.png    healthy\n",
       "85076  isbi2025_ps3c_train_image_12680.png    healthy\n",
       "85077  isbi2025_ps3c_train_image_76453.png    rubbish\n",
       "85078  isbi2025_ps3c_train_image_43224.png    rubbish\n",
       "85079  isbi2025_ps3c_train_image_67355.png    rubbish\n",
       "\n",
       "[85080 rows x 2 columns]"
      ]
     },
     "execution_count": 1,
     "metadata": {},
     "output_type": "execute_result"
    }
   ],
   "source": [
    "import pandas as pd \n",
    "import numpy as np\n",
    "\n",
    "path = 'isbi2025-ps3c-train-dataset.csv'\n",
    "df = pd.read_csv(path)\n",
    "df"
   ]
  },
  {
   "cell_type": "code",
   "execution_count": 2,
   "metadata": {},
   "outputs": [],
   "source": [
    "df['label'].unique() \n",
    "\n",
    "# convert to int labels \n",
    "df['label'] = df['label'].map({'rubbish':0, 'unhealthy':1, 'healthy':2, 'bothcells': 3 })"
   ]
  },
  {
   "cell_type": "code",
   "execution_count": 3,
   "metadata": {},
   "outputs": [
    {
     "data": {
      "text/html": [
       "<div>\n",
       "<style scoped>\n",
       "    .dataframe tbody tr th:only-of-type {\n",
       "        vertical-align: middle;\n",
       "    }\n",
       "\n",
       "    .dataframe tbody tr th {\n",
       "        vertical-align: top;\n",
       "    }\n",
       "\n",
       "    .dataframe thead th {\n",
       "        text-align: right;\n",
       "    }\n",
       "</style>\n",
       "<table border=\"1\" class=\"dataframe\">\n",
       "  <thead>\n",
       "    <tr style=\"text-align: right;\">\n",
       "      <th></th>\n",
       "      <th>image_name</th>\n",
       "      <th>label</th>\n",
       "      <th>image_path</th>\n",
       "    </tr>\n",
       "  </thead>\n",
       "  <tbody>\n",
       "    <tr>\n",
       "      <th>0</th>\n",
       "      <td>isbi2025_ps3c_train_image_73838.png</td>\n",
       "      <td>0</td>\n",
       "      <td>resized_train_data/isbi2025_ps3c_train_image_7...</td>\n",
       "    </tr>\n",
       "    <tr>\n",
       "      <th>1</th>\n",
       "      <td>isbi2025_ps3c_train_image_84057.png</td>\n",
       "      <td>1</td>\n",
       "      <td>resized_train_data/isbi2025_ps3c_train_image_8...</td>\n",
       "    </tr>\n",
       "    <tr>\n",
       "      <th>2</th>\n",
       "      <td>isbi2025_ps3c_train_image_80712.png</td>\n",
       "      <td>0</td>\n",
       "      <td>resized_train_data/isbi2025_ps3c_train_image_8...</td>\n",
       "    </tr>\n",
       "    <tr>\n",
       "      <th>3</th>\n",
       "      <td>isbi2025_ps3c_train_image_08602.png</td>\n",
       "      <td>2</td>\n",
       "      <td>resized_train_data/isbi2025_ps3c_train_image_0...</td>\n",
       "    </tr>\n",
       "    <tr>\n",
       "      <th>4</th>\n",
       "      <td>isbi2025_ps3c_train_image_31517.png</td>\n",
       "      <td>2</td>\n",
       "      <td>resized_train_data/isbi2025_ps3c_train_image_3...</td>\n",
       "    </tr>\n",
       "    <tr>\n",
       "      <th>...</th>\n",
       "      <td>...</td>\n",
       "      <td>...</td>\n",
       "      <td>...</td>\n",
       "    </tr>\n",
       "    <tr>\n",
       "      <th>85075</th>\n",
       "      <td>isbi2025_ps3c_train_image_05446.png</td>\n",
       "      <td>2</td>\n",
       "      <td>resized_train_data/isbi2025_ps3c_train_image_0...</td>\n",
       "    </tr>\n",
       "    <tr>\n",
       "      <th>85076</th>\n",
       "      <td>isbi2025_ps3c_train_image_12680.png</td>\n",
       "      <td>2</td>\n",
       "      <td>resized_train_data/isbi2025_ps3c_train_image_1...</td>\n",
       "    </tr>\n",
       "    <tr>\n",
       "      <th>85077</th>\n",
       "      <td>isbi2025_ps3c_train_image_76453.png</td>\n",
       "      <td>0</td>\n",
       "      <td>resized_train_data/isbi2025_ps3c_train_image_7...</td>\n",
       "    </tr>\n",
       "    <tr>\n",
       "      <th>85078</th>\n",
       "      <td>isbi2025_ps3c_train_image_43224.png</td>\n",
       "      <td>0</td>\n",
       "      <td>resized_train_data/isbi2025_ps3c_train_image_4...</td>\n",
       "    </tr>\n",
       "    <tr>\n",
       "      <th>85079</th>\n",
       "      <td>isbi2025_ps3c_train_image_67355.png</td>\n",
       "      <td>0</td>\n",
       "      <td>resized_train_data/isbi2025_ps3c_train_image_6...</td>\n",
       "    </tr>\n",
       "  </tbody>\n",
       "</table>\n",
       "<p>85080 rows × 3 columns</p>\n",
       "</div>"
      ],
      "text/plain": [
       "                                image_name  label  \\\n",
       "0      isbi2025_ps3c_train_image_73838.png      0   \n",
       "1      isbi2025_ps3c_train_image_84057.png      1   \n",
       "2      isbi2025_ps3c_train_image_80712.png      0   \n",
       "3      isbi2025_ps3c_train_image_08602.png      2   \n",
       "4      isbi2025_ps3c_train_image_31517.png      2   \n",
       "...                                    ...    ...   \n",
       "85075  isbi2025_ps3c_train_image_05446.png      2   \n",
       "85076  isbi2025_ps3c_train_image_12680.png      2   \n",
       "85077  isbi2025_ps3c_train_image_76453.png      0   \n",
       "85078  isbi2025_ps3c_train_image_43224.png      0   \n",
       "85079  isbi2025_ps3c_train_image_67355.png      0   \n",
       "\n",
       "                                              image_path  \n",
       "0      resized_train_data/isbi2025_ps3c_train_image_7...  \n",
       "1      resized_train_data/isbi2025_ps3c_train_image_8...  \n",
       "2      resized_train_data/isbi2025_ps3c_train_image_8...  \n",
       "3      resized_train_data/isbi2025_ps3c_train_image_0...  \n",
       "4      resized_train_data/isbi2025_ps3c_train_image_3...  \n",
       "...                                                  ...  \n",
       "85075  resized_train_data/isbi2025_ps3c_train_image_0...  \n",
       "85076  resized_train_data/isbi2025_ps3c_train_image_1...  \n",
       "85077  resized_train_data/isbi2025_ps3c_train_image_7...  \n",
       "85078  resized_train_data/isbi2025_ps3c_train_image_4...  \n",
       "85079  resized_train_data/isbi2025_ps3c_train_image_6...  \n",
       "\n",
       "[85080 rows x 3 columns]"
      ]
     },
     "execution_count": 3,
     "metadata": {},
     "output_type": "execute_result"
    }
   ],
   "source": [
    "import os\n",
    "\n",
    "root_dir = 'resized_train_data'\n",
    "df['image_path'] = df['image_name'].map(lambda x: os.path.join(root_dir, x))\n",
    "df\n"
   ]
  },
  {
   "cell_type": "code",
   "execution_count": 4,
   "metadata": {},
   "outputs": [],
   "source": [
    "df.drop(columns=['image_name'], inplace=True)"
   ]
  },
  {
   "cell_type": "code",
   "execution_count": 5,
   "metadata": {},
   "outputs": [],
   "source": [
    "df.to_csv('train.csv', index=False)"
   ]
  },
  {
   "cell_type": "code",
   "execution_count": 21,
   "metadata": {},
   "outputs": [
    {
     "data": {
      "text/plain": [
       "'resized_train_data/isbi2025_ps3c_train_image_80712.png'"
      ]
     },
     "execution_count": 21,
     "metadata": {},
     "output_type": "execute_result"
    }
   ],
   "source": [
    "np.array( df['image_path'])[2]"
   ]
  },
  {
   "cell_type": "code",
   "execution_count": 23,
   "metadata": {},
   "outputs": [
    {
     "data": {
      "text/plain": [
       "numpy.ndarray"
      ]
     },
     "execution_count": 23,
     "metadata": {},
     "output_type": "execute_result"
    }
   ],
   "source": [
    "type(df['image_path'].values)"
   ]
  },
  {
   "cell_type": "code",
   "execution_count": null,
   "metadata": {},
   "outputs": [],
   "source": []
  }
 ],
 "metadata": {
  "kernelspec": {
   "display_name": "BBDM",
   "language": "python",
   "name": "python3"
  },
  "language_info": {
   "codemirror_mode": {
    "name": "ipython",
    "version": 3
   },
   "file_extension": ".py",
   "mimetype": "text/x-python",
   "name": "python",
   "nbconvert_exporter": "python",
   "pygments_lexer": "ipython3",
   "version": "3.9.7"
  }
 },
 "nbformat": 4,
 "nbformat_minor": 2
}
